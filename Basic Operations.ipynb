{
 "cells": [
  {
   "cell_type": "code",
   "execution_count": 7,
   "metadata": {
    "collapsed": true
   },
   "outputs": [],
   "source": [
    "import tensorflow as tf"
   ]
  },
  {
   "cell_type": "code",
   "execution_count": 8,
   "metadata": {
    "collapsed": true
   },
   "outputs": [],
   "source": [
    "a = tf.constant(2)\n",
    "b = tf.constant(3)"
   ]
  },
  {
   "cell_type": "code",
   "execution_count": 9,
   "metadata": {},
   "outputs": [
    {
     "name": "stdout",
     "output_type": "stream",
     "text": [
      "Variable a = 2\n",
      "Variable b = 3\n",
      "Addition = 5\n",
      "Subtract = -1\n",
      "Mutlipilcation = 6\n"
     ]
    }
   ],
   "source": [
    "with tf.Session() as sess:\n",
    "    print (\"Variable a = %i\" % sess.run(a))\n",
    "    print (\"Variable b = %i\" % sess.run(b))\n",
    "    print (\"Addition = %i\" % sess.run(a+b))\n",
    "    print (\"Subtract = %i\" % sess.run(a-b))\n",
    "    print (\"Mutlipilcation = %i\" % sess.run(a*b))"
   ]
  },
  {
   "cell_type": "code",
   "execution_count": 10,
   "metadata": {
    "collapsed": true
   },
   "outputs": [],
   "source": [
    "a_placeholder = tf.placeholder(tf.int16)\n",
    "b_placeholder = tf.placeholder(tf.int16)"
   ]
  },
  {
   "cell_type": "code",
   "execution_count": 12,
   "metadata": {},
   "outputs": [],
   "source": [
    "add = tf.add(a,b) \n",
    "sub = tf.subtract(a,b)\n",
    "mul = tf.multiply(a,b)"
   ]
  },
  {
   "cell_type": "code",
   "execution_count": 15,
   "metadata": {},
   "outputs": [
    {
     "name": "stdout",
     "output_type": "stream",
     "text": [
      "Addition with Variable: 25 ,Input : 10,15\n",
      "Subraction with Varible: -25, input : 20,45\n",
      "Multiplication with Variable: 80, Input : 10,8\n"
     ]
    }
   ],
   "source": [
    "with tf.Session() as sess:\n",
    "    print (\"Addition with Variable: %i ,Input : 10,15\" % sess.run(add,feed_dict={a:10,b:15}))\n",
    "    print (\"Subraction with Varible: %i, input : 20,45\"% sess.run(sub,feed_dict={a:20,b:45}))\n",
    "    print (\"Multiplication with Variable: %i, Input : 10,8\" % sess.run(mul,feed_dict={a:10,b:8}))"
   ]
  },
  {
   "cell_type": "code",
   "execution_count": 23,
   "metadata": {},
   "outputs": [],
   "source": [
    "matrix_a = tf.constant([[3.0,3.0]])\n",
    "matrix_b = tf.constant([[3.0],[3.0]])"
   ]
  },
  {
   "cell_type": "code",
   "execution_count": 24,
   "metadata": {},
   "outputs": [],
   "source": [
    "product  = tf.matmul(matrix_a,matrix_b)"
   ]
  },
  {
   "cell_type": "code",
   "execution_count": 25,
   "metadata": {},
   "outputs": [
    {
     "name": "stdout",
     "output_type": "stream",
     "text": [
      "[[ 18.]]\n"
     ]
    }
   ],
   "source": [
    "with tf.Session() as sess:\n",
    "    print(sess.run(product))"
   ]
  }
 ],
 "metadata": {
  "kernelspec": {
   "display_name": "Python 3",
   "language": "python",
   "name": "python3"
  },
  "language_info": {
   "codemirror_mode": {
    "name": "ipython",
    "version": 3
   },
   "file_extension": ".py",
   "mimetype": "text/x-python",
   "name": "python",
   "nbconvert_exporter": "python",
   "pygments_lexer": "ipython3",
   "version": "3.5.4"
  }
 },
 "nbformat": 4,
 "nbformat_minor": 2
}
